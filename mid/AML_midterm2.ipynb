{
  "cells": [
    {
      "cell_type": "code",
      "execution_count": 1,
      "metadata": {
        "id": "ZgEjmYNQKpGJ"
      },
      "outputs": [],
      "source": [
        "# e.g. if using google colab import drive, uncomment lines below\n",
        "# from google.colab import drive\n",
        "# drive.mount('/content/drive')"
      ]
    },
    {
      "cell_type": "code",
      "execution_count": 2,
      "metadata": {
        "id": "J7tL7HGTR03R"
      },
      "outputs": [],
      "source": [
        "import os\n",
        "import re\n",
        "import math\n",
        "import string\n",
        "import numpy as np\n",
        "import pandas as pd\n",
        "\n",
        "from matplotlib import pyplot as plt\n",
        "\n",
        "import sklearn\n",
        "from sklearn.model_selection import train_test_split\n",
        "from sklearn.preprocessing import OneHotEncoder\n",
        "from sklearn.feature_extraction.text import CountVectorizer, TfidfVectorizer, TfidfTransformer\n",
        "\n",
        "from sklearn.linear_model import LinearRegression as sk_OLS\n",
        "from sklearn.linear_model import LogisticRegression\n",
        "from sklearn.cluster import KMeans, DBSCAN\n",
        "from sklearn.naive_bayes import MultinomialNB\n",
        "from sklearn.neighbors import KNeighborsClassifier\n",
        "from sklearn.mixture import GaussianMixture\n",
        "from sklearn.naive_bayes import MultinomialNB\n",
        "\n",
        "from sklearn.compose import ColumnTransformer\n",
        "from sklearn.metrics import r2_score, accuracy_score, classification_report\n",
        "\n",
        "import nltk\n",
        "from nltk.corpus import stopwords\n",
        "from nltk.corpus import wordnet as wn\n",
        "from nltk.stem import WordNetLemmatizer, PorterStemmer\n",
        "from nltk.tokenize import word_tokenize\n",
        "\n",
        "from collections import Counter\n",
        "\n",
        "import warnings\n",
        "warnings.filterwarnings('ignore')"
      ]
    },
    {
      "cell_type": "markdown",
      "metadata": {},
      "source": [
        "# Loading Datasets"
      ]
    },
    {
      "cell_type": "code",
      "execution_count": 3,
      "metadata": {
        "id": "GxhTqsxGR0Lw"
      },
      "outputs": [],
      "source": [
        "TRAIN_ORIGINAL = pd.read_csv(\"./data/train.csv\")\n",
        "VALIDATION_ORIGINAL= pd.read_csv(\"/Users/jeongwoochoi/Desktop/Cornell/Fall/5750_AML/midterm_project/data/val.csv\")\n",
        "TEST_ORIGINAL = pd.read_csv(\"/Users/jeongwoochoi/Desktop/Cornell/Fall/5750_AML/midterm_project/data/test.csv\")"
      ]
    },
    {
      "cell_type": "code",
      "execution_count": 4,
      "metadata": {},
      "outputs": [
        {
          "data": {
            "text/plain": [
              "Sentiment\n",
              "-100    65545\n",
              " 2      22418\n",
              " 3       9238\n",
              " 1       7544\n",
              " 4       2587\n",
              " 0       1910\n",
              "Name: count, dtype: int64"
            ]
          },
          "execution_count": 4,
          "metadata": {},
          "output_type": "execute_result"
        }
      ],
      "source": [
        "TRAIN_ORIGINAL['Sentiment'].value_counts()"
      ]
    },
    {
      "cell_type": "markdown",
      "metadata": {
        "id": "YmQCFxI2KxXx"
      },
      "source": [
        "# Preprocessing steps"
      ]
    },
    {
      "cell_type": "code",
      "execution_count": 5,
      "metadata": {
        "id": "TN1uxuUtSf5J"
      },
      "outputs": [],
      "source": [
        "def clean_data(text: str):\n",
        "    \"\"\"\n",
        "    Take in a text review and return the cleaned version\n",
        "    \"\"\"\n",
        "    text = re.sub(r'^https?:\\/\\/.*[\\r\\n]*', '', text, flags=re.MULTILINE)\n",
        "    texter = re.sub(r\"<br />\", \" \", text)\n",
        "    texter = re.sub(r\"&quot;\", \"\\\"\",texter)\n",
        "    texter = re.sub('&#39;', \"\\\"\", texter)\n",
        "    texter = re.sub('\\n', \" \", texter)\n",
        "    texter = re.sub(' u ',\" you \", texter)\n",
        "    texter = re.sub('`',\"\", texter)\n",
        "    texter = re.sub(' +', ' ', texter)\n",
        "    texter = re.sub(r\"(!)\\1+\", r\"!\", texter)\n",
        "    texter = re.sub(r\"(\\?)\\1+\", r\"?\", texter)\n",
        "    texter = re.sub('&amp;', 'and', texter)\n",
        "    texter = re.sub('\\r', ' ',texter)\n",
        "\n",
        "    #***********added substitutions***********\n",
        "    # Converting to Lowercase\n",
        "    texter = texter.lower()    \n",
        "    # remove all the special characters\n",
        "    texter = re.sub(r'\\W', ' ', texter)\n",
        "    # remove all single characters\n",
        "    texter = re.sub(r'\\s+[a-zA-Z]\\s+', ' ', texter)\n",
        "    # Remove single characters from the start\n",
        "    texter = re.sub(r'\\^[a-zA-Z]\\s+', ' ', texter)\n",
        "    # Remove numbers\n",
        "    texter = re.sub(r'\\d+', ' ', texter)\n",
        "    # Remove punctuation\n",
        "    texter = re.sub(r'[^\\w\\s]', ' ', texter)\n",
        "    # Remove parentheses\n",
        "    texter = re.sub(r'\\([^)]*\\)', ' ', texter)\n",
        "    # Remove single quotes\n",
        "    texter = re.sub(r'\\'', ' ', texter)\n",
        "    # Substituting multiple spaces with single space\n",
        "    texter = re.sub(r'\\s+', ' ', texter, flags=re.I)\n",
        "\n",
        "    clean = re.compile('<.*?>')\n",
        "    texter = texter.encode('ascii', 'ignore').decode('ascii')\n",
        "    texter = re.sub(clean, '', texter)\n",
        "        \n",
        "    return texter"
      ]
    },
    {
      "cell_type": "markdown",
      "metadata": {},
      "source": [
        "## Bag of words"
      ]
    },
    {
      "cell_type": "code",
      "execution_count": 6,
      "metadata": {
        "colab": {
          "base_uri": "https://localhost:8080/",
          "height": 74
        },
        "id": "3Mbn2fSwSqlC",
        "outputId": "843bb5b0-7f35-461d-cae2-84990c416036"
      },
      "outputs": [
        {
          "data": {
            "text/html": [
              "<style>#sk-container-id-1 {color: black;}#sk-container-id-1 pre{padding: 0;}#sk-container-id-1 div.sk-toggleable {background-color: white;}#sk-container-id-1 label.sk-toggleable__label {cursor: pointer;display: block;width: 100%;margin-bottom: 0;padding: 0.3em;box-sizing: border-box;text-align: center;}#sk-container-id-1 label.sk-toggleable__label-arrow:before {content: \"▸\";float: left;margin-right: 0.25em;color: #696969;}#sk-container-id-1 label.sk-toggleable__label-arrow:hover:before {color: black;}#sk-container-id-1 div.sk-estimator:hover label.sk-toggleable__label-arrow:before {color: black;}#sk-container-id-1 div.sk-toggleable__content {max-height: 0;max-width: 0;overflow: hidden;text-align: left;background-color: #f0f8ff;}#sk-container-id-1 div.sk-toggleable__content pre {margin: 0.2em;color: black;border-radius: 0.25em;background-color: #f0f8ff;}#sk-container-id-1 input.sk-toggleable__control:checked~div.sk-toggleable__content {max-height: 200px;max-width: 100%;overflow: auto;}#sk-container-id-1 input.sk-toggleable__control:checked~label.sk-toggleable__label-arrow:before {content: \"▾\";}#sk-container-id-1 div.sk-estimator input.sk-toggleable__control:checked~label.sk-toggleable__label {background-color: #d4ebff;}#sk-container-id-1 div.sk-label input.sk-toggleable__control:checked~label.sk-toggleable__label {background-color: #d4ebff;}#sk-container-id-1 input.sk-hidden--visually {border: 0;clip: rect(1px 1px 1px 1px);clip: rect(1px, 1px, 1px, 1px);height: 1px;margin: -1px;overflow: hidden;padding: 0;position: absolute;width: 1px;}#sk-container-id-1 div.sk-estimator {font-family: monospace;background-color: #f0f8ff;border: 1px dotted black;border-radius: 0.25em;box-sizing: border-box;margin-bottom: 0.5em;}#sk-container-id-1 div.sk-estimator:hover {background-color: #d4ebff;}#sk-container-id-1 div.sk-parallel-item::after {content: \"\";width: 100%;border-bottom: 1px solid gray;flex-grow: 1;}#sk-container-id-1 div.sk-label:hover label.sk-toggleable__label {background-color: #d4ebff;}#sk-container-id-1 div.sk-serial::before {content: \"\";position: absolute;border-left: 1px solid gray;box-sizing: border-box;top: 0;bottom: 0;left: 50%;z-index: 0;}#sk-container-id-1 div.sk-serial {display: flex;flex-direction: column;align-items: center;background-color: white;padding-right: 0.2em;padding-left: 0.2em;position: relative;}#sk-container-id-1 div.sk-item {position: relative;z-index: 1;}#sk-container-id-1 div.sk-parallel {display: flex;align-items: stretch;justify-content: center;background-color: white;position: relative;}#sk-container-id-1 div.sk-item::before, #sk-container-id-1 div.sk-parallel-item::before {content: \"\";position: absolute;border-left: 1px solid gray;box-sizing: border-box;top: 0;bottom: 0;left: 50%;z-index: -1;}#sk-container-id-1 div.sk-parallel-item {display: flex;flex-direction: column;z-index: 1;position: relative;background-color: white;}#sk-container-id-1 div.sk-parallel-item:first-child::after {align-self: flex-end;width: 50%;}#sk-container-id-1 div.sk-parallel-item:last-child::after {align-self: flex-start;width: 50%;}#sk-container-id-1 div.sk-parallel-item:only-child::after {width: 0;}#sk-container-id-1 div.sk-dashed-wrapped {border: 1px dashed gray;margin: 0 0.4em 0.5em 0.4em;box-sizing: border-box;padding-bottom: 0.4em;background-color: white;}#sk-container-id-1 div.sk-label label {font-family: monospace;font-weight: bold;display: inline-block;line-height: 1.2em;}#sk-container-id-1 div.sk-label-container {text-align: center;}#sk-container-id-1 div.sk-container {/* jupyter's `normalize.less` sets `[hidden] { display: none; }` but bootstrap.min.css set `[hidden] { display: none !important; }` so we also need the `!important` here to be able to override the default hidden behavior on the sphinx rendered scikit-learn.org. See: https://github.com/scikit-learn/scikit-learn/issues/21755 */display: inline-block !important;position: relative;}#sk-container-id-1 div.sk-text-repr-fallback {display: none;}</style><div id=\"sk-container-id-1\" class=\"sk-top-container\"><div class=\"sk-text-repr-fallback\"><pre>CountVectorizer(max_features=10000)</pre><b>In a Jupyter environment, please rerun this cell to show the HTML representation or trust the notebook. <br />On GitHub, the HTML representation is unable to render, please try loading this page with nbviewer.org.</b></div><div class=\"sk-container\" hidden><div class=\"sk-item\"><div class=\"sk-estimator sk-toggleable\"><input class=\"sk-toggleable__control sk-hidden--visually\" id=\"sk-estimator-id-1\" type=\"checkbox\" checked><label for=\"sk-estimator-id-1\" class=\"sk-toggleable__label sk-toggleable__label-arrow\">CountVectorizer</label><div class=\"sk-toggleable__content\"><pre>CountVectorizer(max_features=10000)</pre></div></div></div></div></div>"
            ],
            "text/plain": [
              "CountVectorizer(max_features=10000)"
            ]
          },
          "execution_count": 6,
          "metadata": {},
          "output_type": "execute_result"
        }
      ],
      "source": [
        "# Get the cleaned_phrases\n",
        "cleaned_phrases_bow = TRAIN_ORIGINAL['Phrase'].apply(clean_data)\n",
        "# cleaned_phrases = pre_process(cleaned_phrases)\n",
        "train_data_cleaned_bow = pd.DataFrame({'Phrase': cleaned_phrases_bow, 'Sentiment': TRAIN_ORIGINAL['Sentiment']})\n",
        "train_data_cleaned_bow\n",
        "\n",
        "bag_of_words_vectorizer = CountVectorizer(max_features= 10000)\n",
        "bag_of_words_vectorizer.fit(train_data_cleaned_bow['Phrase'])"
      ]
    },
    {
      "cell_type": "markdown",
      "metadata": {},
      "source": [
        "## N-grams"
      ]
    },
    {
      "cell_type": "code",
      "execution_count": 7,
      "metadata": {
        "colab": {
          "base_uri": "https://localhost:8080/",
          "height": 74
        },
        "id": "O4aq1b5GSqnW",
        "outputId": "0298332a-9dfc-4178-e1a8-92e966fd023a"
      },
      "outputs": [
        {
          "data": {
            "text/html": [
              "<div>\n",
              "<style scoped>\n",
              "    .dataframe tbody tr th:only-of-type {\n",
              "        vertical-align: middle;\n",
              "    }\n",
              "\n",
              "    .dataframe tbody tr th {\n",
              "        vertical-align: top;\n",
              "    }\n",
              "\n",
              "    .dataframe thead th {\n",
              "        text-align: right;\n",
              "    }\n",
              "</style>\n",
              "<table border=\"1\" class=\"dataframe\">\n",
              "  <thead>\n",
              "    <tr style=\"text-align: right;\">\n",
              "      <th></th>\n",
              "      <th>Phrase</th>\n",
              "      <th>Sentiment</th>\n",
              "    </tr>\n",
              "  </thead>\n",
              "  <tbody>\n",
              "    <tr>\n",
              "      <th>0</th>\n",
              "      <td>every taste often funny collegiate gross comed...</td>\n",
              "      <td>-100</td>\n",
              "    </tr>\n",
              "    <tr>\n",
              "      <th>1</th>\n",
              "      <td>bunch good actor flailing around caper neither...</td>\n",
              "      <td>-100</td>\n",
              "    </tr>\n",
              "    <tr>\n",
              "      <th>2</th>\n",
              "      <td>vietnam picture</td>\n",
              "      <td>-100</td>\n",
              "    </tr>\n",
              "    <tr>\n",
              "      <th>3</th>\n",
              "      <td>fincher</td>\n",
              "      <td>2</td>\n",
              "    </tr>\n",
              "    <tr>\n",
              "      <th>4</th>\n",
              "      <td>pitiful directing</td>\n",
              "      <td>1</td>\n",
              "    </tr>\n",
              "    <tr>\n",
              "      <th>...</th>\n",
              "      <td>...</td>\n",
              "      <td>...</td>\n",
              "    </tr>\n",
              "    <tr>\n",
              "      <th>109237</th>\n",
              "      <td>trademark villain</td>\n",
              "      <td>-100</td>\n",
              "    </tr>\n",
              "    <tr>\n",
              "      <th>109238</th>\n",
              "      <td>earn share holiday box office pie although mov...</td>\n",
              "      <td>-100</td>\n",
              "    </tr>\n",
              "    <tr>\n",
              "      <th>109239</th>\n",
              "      <td>moving tale love destruction unexpected place</td>\n",
              "      <td>-100</td>\n",
              "    </tr>\n",
              "    <tr>\n",
              "      <th>109240</th>\n",
              "      <td>love reading poetry mean check</td>\n",
              "      <td>3</td>\n",
              "    </tr>\n",
              "    <tr>\n",
              "      <th>109241</th>\n",
              "      <td>drag audience enthusiasm</td>\n",
              "      <td>-100</td>\n",
              "    </tr>\n",
              "  </tbody>\n",
              "</table>\n",
              "<p>109242 rows × 2 columns</p>\n",
              "</div>"
            ],
            "text/plain": [
              "                                                   Phrase  Sentiment\n",
              "0       every taste often funny collegiate gross comed...       -100\n",
              "1       bunch good actor flailing around caper neither...       -100\n",
              "2                                         vietnam picture       -100\n",
              "3                                                 fincher          2\n",
              "4                                       pitiful directing          1\n",
              "...                                                   ...        ...\n",
              "109237                                  trademark villain       -100\n",
              "109238  earn share holiday box office pie although mov...       -100\n",
              "109239      moving tale love destruction unexpected place       -100\n",
              "109240                     love reading poetry mean check          3\n",
              "109241                           drag audience enthusiasm       -100\n",
              "\n",
              "[109242 rows x 2 columns]"
            ]
          },
          "execution_count": 7,
          "metadata": {},
          "output_type": "execute_result"
        }
      ],
      "source": [
        "# nltk.download('stopwords')\n",
        "# nltk.download('wordnet')\n",
        "# nltk.download('punkt')\n",
        "\n",
        "english_stopwords = set(stopwords.words('english'))\n",
        "ps = PorterStemmer()\n",
        "lemmatizer = WordNetLemmatizer()\n",
        "\n",
        "def preprocess_for_ngrams(text: str):\n",
        "    # Clean data \n",
        "    text = clean_data(text)\n",
        "    \n",
        "    # Tokenization\n",
        "    tokens = word_tokenize(text)\n",
        "        \n",
        "    # Lemmatization\n",
        "    lemmatizer = WordNetLemmatizer()\n",
        "    lemmatized_tokens = [lemmatizer.lemmatize(token) for token in tokens]    \n",
        "    \n",
        "    # Stopword removal\n",
        "    stop_words = set(stopwords.words('english'))\n",
        "    filtered_tokens = [token for token in lemmatized_tokens if token not in stop_words]\n",
        "    \n",
        "    return ' '.join(filtered_tokens)\n",
        "\n",
        "# Get the cleaned_phrases\n",
        "cleaned_phrases = TRAIN_ORIGINAL['Phrase'].apply(preprocess_for_ngrams)\n",
        "train_data_ngrams = pd.DataFrame({'Phrase': cleaned_phrases, 'Sentiment': TRAIN_ORIGINAL['Sentiment']})\n",
        "train_data_ngrams"
      ]
    },
    {
      "cell_type": "code",
      "execution_count": 8,
      "metadata": {
        "colab": {
          "base_uri": "https://localhost:8080/",
          "height": 419
        },
        "id": "y0bPLW5USmi5",
        "outputId": "d8f63035-2c90-40a4-d79a-3742792a5151"
      },
      "outputs": [
        {
          "data": {
            "text/html": [
              "<style>#sk-container-id-2 {color: black;}#sk-container-id-2 pre{padding: 0;}#sk-container-id-2 div.sk-toggleable {background-color: white;}#sk-container-id-2 label.sk-toggleable__label {cursor: pointer;display: block;width: 100%;margin-bottom: 0;padding: 0.3em;box-sizing: border-box;text-align: center;}#sk-container-id-2 label.sk-toggleable__label-arrow:before {content: \"▸\";float: left;margin-right: 0.25em;color: #696969;}#sk-container-id-2 label.sk-toggleable__label-arrow:hover:before {color: black;}#sk-container-id-2 div.sk-estimator:hover label.sk-toggleable__label-arrow:before {color: black;}#sk-container-id-2 div.sk-toggleable__content {max-height: 0;max-width: 0;overflow: hidden;text-align: left;background-color: #f0f8ff;}#sk-container-id-2 div.sk-toggleable__content pre {margin: 0.2em;color: black;border-radius: 0.25em;background-color: #f0f8ff;}#sk-container-id-2 input.sk-toggleable__control:checked~div.sk-toggleable__content {max-height: 200px;max-width: 100%;overflow: auto;}#sk-container-id-2 input.sk-toggleable__control:checked~label.sk-toggleable__label-arrow:before {content: \"▾\";}#sk-container-id-2 div.sk-estimator input.sk-toggleable__control:checked~label.sk-toggleable__label {background-color: #d4ebff;}#sk-container-id-2 div.sk-label input.sk-toggleable__control:checked~label.sk-toggleable__label {background-color: #d4ebff;}#sk-container-id-2 input.sk-hidden--visually {border: 0;clip: rect(1px 1px 1px 1px);clip: rect(1px, 1px, 1px, 1px);height: 1px;margin: -1px;overflow: hidden;padding: 0;position: absolute;width: 1px;}#sk-container-id-2 div.sk-estimator {font-family: monospace;background-color: #f0f8ff;border: 1px dotted black;border-radius: 0.25em;box-sizing: border-box;margin-bottom: 0.5em;}#sk-container-id-2 div.sk-estimator:hover {background-color: #d4ebff;}#sk-container-id-2 div.sk-parallel-item::after {content: \"\";width: 100%;border-bottom: 1px solid gray;flex-grow: 1;}#sk-container-id-2 div.sk-label:hover label.sk-toggleable__label {background-color: #d4ebff;}#sk-container-id-2 div.sk-serial::before {content: \"\";position: absolute;border-left: 1px solid gray;box-sizing: border-box;top: 0;bottom: 0;left: 50%;z-index: 0;}#sk-container-id-2 div.sk-serial {display: flex;flex-direction: column;align-items: center;background-color: white;padding-right: 0.2em;padding-left: 0.2em;position: relative;}#sk-container-id-2 div.sk-item {position: relative;z-index: 1;}#sk-container-id-2 div.sk-parallel {display: flex;align-items: stretch;justify-content: center;background-color: white;position: relative;}#sk-container-id-2 div.sk-item::before, #sk-container-id-2 div.sk-parallel-item::before {content: \"\";position: absolute;border-left: 1px solid gray;box-sizing: border-box;top: 0;bottom: 0;left: 50%;z-index: -1;}#sk-container-id-2 div.sk-parallel-item {display: flex;flex-direction: column;z-index: 1;position: relative;background-color: white;}#sk-container-id-2 div.sk-parallel-item:first-child::after {align-self: flex-end;width: 50%;}#sk-container-id-2 div.sk-parallel-item:last-child::after {align-self: flex-start;width: 50%;}#sk-container-id-2 div.sk-parallel-item:only-child::after {width: 0;}#sk-container-id-2 div.sk-dashed-wrapped {border: 1px dashed gray;margin: 0 0.4em 0.5em 0.4em;box-sizing: border-box;padding-bottom: 0.4em;background-color: white;}#sk-container-id-2 div.sk-label label {font-family: monospace;font-weight: bold;display: inline-block;line-height: 1.2em;}#sk-container-id-2 div.sk-label-container {text-align: center;}#sk-container-id-2 div.sk-container {/* jupyter's `normalize.less` sets `[hidden] { display: none; }` but bootstrap.min.css set `[hidden] { display: none !important; }` so we also need the `!important` here to be able to override the default hidden behavior on the sphinx rendered scikit-learn.org. See: https://github.com/scikit-learn/scikit-learn/issues/21755 */display: inline-block !important;position: relative;}#sk-container-id-2 div.sk-text-repr-fallback {display: none;}</style><div id=\"sk-container-id-2\" class=\"sk-top-container\"><div class=\"sk-text-repr-fallback\"><pre>CountVectorizer(max_features=10000, min_df=100, ngram_range=(1, 3))</pre><b>In a Jupyter environment, please rerun this cell to show the HTML representation or trust the notebook. <br />On GitHub, the HTML representation is unable to render, please try loading this page with nbviewer.org.</b></div><div class=\"sk-container\" hidden><div class=\"sk-item\"><div class=\"sk-estimator sk-toggleable\"><input class=\"sk-toggleable__control sk-hidden--visually\" id=\"sk-estimator-id-2\" type=\"checkbox\" checked><label for=\"sk-estimator-id-2\" class=\"sk-toggleable__label sk-toggleable__label-arrow\">CountVectorizer</label><div class=\"sk-toggleable__content\"><pre>CountVectorizer(max_features=10000, min_df=100, ngram_range=(1, 3))</pre></div></div></div></div></div>"
            ],
            "text/plain": [
              "CountVectorizer(max_features=10000, min_df=100, ngram_range=(1, 3))"
            ]
          },
          "execution_count": 8,
          "metadata": {},
          "output_type": "execute_result"
        }
      ],
      "source": [
        "ngrams_vectorizer = CountVectorizer(ngram_range=(1, 3), min_df=100, max_features=10000)\n",
        "ngrams_vectorizer.fit(train_data_ngrams['Phrase'])"
      ]
    },
    {
      "cell_type": "markdown",
      "metadata": {},
      "source": [
        "## GloVe Embeddings"
      ]
    },
    {
      "cell_type": "code",
      "execution_count": 9,
      "metadata": {},
      "outputs": [],
      "source": [
        "glove = {}\n",
        "with open(\"./data/glove.6B.300d.txt\", 'r', encoding='utf-8') as f: # if 'r' fails with unicode error, please use 'rb'\n",
        "    for line in f:\n",
        "        values = line.split()\n",
        "        word = values[0]\n",
        "        vector = np.asarray(values[1:], \"float32\")\n",
        "        glove[word] = vector"
      ]
    },
    {
      "cell_type": "code",
      "execution_count": 10,
      "metadata": {},
      "outputs": [],
      "source": [
        "def get_glove_embedding(text):\n",
        "    glove_embedding = np.zeros(300)\n",
        "    \n",
        "    num_valid_words = 0\n",
        "    words = text.split()\n",
        "    for word in words:\n",
        "        if word in glove:\n",
        "            glove_embedding += glove[word]\n",
        "            num_valid_words += 1\n",
        "    \n",
        "    if num_valid_words > 0:\n",
        "        glove_embedding /= num_valid_words\n",
        "    return glove_embedding\n",
        "\n",
        "def preprocess_for_glove_embeddings(text: str):\n",
        "    text = clean_data(text)\n",
        "    return get_glove_embedding(text)"
      ]
    },
    {
      "cell_type": "markdown",
      "metadata": {
        "id": "NL7hyuWGWSaR"
      },
      "source": [
        "# Part 1: Labeling data with Unsupervised Learning Algorithms"
      ]
    },
    {
      "cell_type": "markdown",
      "metadata": {
        "id": "KhqRIsttVxEc"
      },
      "source": [
        "## 1.1: Training K-means with Bag of Words, N-grams, GloVe"
      ]
    },
    {
      "cell_type": "code",
      "execution_count": 11,
      "metadata": {
        "colab": {
          "base_uri": "https://localhost:8080/",
          "height": 128
        },
        "id": "Sza2sgROSqr7",
        "outputId": "f6851d56-1727-4e74-89f4-d37d1750dcde"
      },
      "outputs": [
        {
          "data": {
            "text/html": [
              "<style>#sk-container-id-3 {color: black;}#sk-container-id-3 pre{padding: 0;}#sk-container-id-3 div.sk-toggleable {background-color: white;}#sk-container-id-3 label.sk-toggleable__label {cursor: pointer;display: block;width: 100%;margin-bottom: 0;padding: 0.3em;box-sizing: border-box;text-align: center;}#sk-container-id-3 label.sk-toggleable__label-arrow:before {content: \"▸\";float: left;margin-right: 0.25em;color: #696969;}#sk-container-id-3 label.sk-toggleable__label-arrow:hover:before {color: black;}#sk-container-id-3 div.sk-estimator:hover label.sk-toggleable__label-arrow:before {color: black;}#sk-container-id-3 div.sk-toggleable__content {max-height: 0;max-width: 0;overflow: hidden;text-align: left;background-color: #f0f8ff;}#sk-container-id-3 div.sk-toggleable__content pre {margin: 0.2em;color: black;border-radius: 0.25em;background-color: #f0f8ff;}#sk-container-id-3 input.sk-toggleable__control:checked~div.sk-toggleable__content {max-height: 200px;max-width: 100%;overflow: auto;}#sk-container-id-3 input.sk-toggleable__control:checked~label.sk-toggleable__label-arrow:before {content: \"▾\";}#sk-container-id-3 div.sk-estimator input.sk-toggleable__control:checked~label.sk-toggleable__label {background-color: #d4ebff;}#sk-container-id-3 div.sk-label input.sk-toggleable__control:checked~label.sk-toggleable__label {background-color: #d4ebff;}#sk-container-id-3 input.sk-hidden--visually {border: 0;clip: rect(1px 1px 1px 1px);clip: rect(1px, 1px, 1px, 1px);height: 1px;margin: -1px;overflow: hidden;padding: 0;position: absolute;width: 1px;}#sk-container-id-3 div.sk-estimator {font-family: monospace;background-color: #f0f8ff;border: 1px dotted black;border-radius: 0.25em;box-sizing: border-box;margin-bottom: 0.5em;}#sk-container-id-3 div.sk-estimator:hover {background-color: #d4ebff;}#sk-container-id-3 div.sk-parallel-item::after {content: \"\";width: 100%;border-bottom: 1px solid gray;flex-grow: 1;}#sk-container-id-3 div.sk-label:hover label.sk-toggleable__label {background-color: #d4ebff;}#sk-container-id-3 div.sk-serial::before {content: \"\";position: absolute;border-left: 1px solid gray;box-sizing: border-box;top: 0;bottom: 0;left: 50%;z-index: 0;}#sk-container-id-3 div.sk-serial {display: flex;flex-direction: column;align-items: center;background-color: white;padding-right: 0.2em;padding-left: 0.2em;position: relative;}#sk-container-id-3 div.sk-item {position: relative;z-index: 1;}#sk-container-id-3 div.sk-parallel {display: flex;align-items: stretch;justify-content: center;background-color: white;position: relative;}#sk-container-id-3 div.sk-item::before, #sk-container-id-3 div.sk-parallel-item::before {content: \"\";position: absolute;border-left: 1px solid gray;box-sizing: border-box;top: 0;bottom: 0;left: 50%;z-index: -1;}#sk-container-id-3 div.sk-parallel-item {display: flex;flex-direction: column;z-index: 1;position: relative;background-color: white;}#sk-container-id-3 div.sk-parallel-item:first-child::after {align-self: flex-end;width: 50%;}#sk-container-id-3 div.sk-parallel-item:last-child::after {align-self: flex-start;width: 50%;}#sk-container-id-3 div.sk-parallel-item:only-child::after {width: 0;}#sk-container-id-3 div.sk-dashed-wrapped {border: 1px dashed gray;margin: 0 0.4em 0.5em 0.4em;box-sizing: border-box;padding-bottom: 0.4em;background-color: white;}#sk-container-id-3 div.sk-label label {font-family: monospace;font-weight: bold;display: inline-block;line-height: 1.2em;}#sk-container-id-3 div.sk-label-container {text-align: center;}#sk-container-id-3 div.sk-container {/* jupyter's `normalize.less` sets `[hidden] { display: none; }` but bootstrap.min.css set `[hidden] { display: none !important; }` so we also need the `!important` here to be able to override the default hidden behavior on the sphinx rendered scikit-learn.org. See: https://github.com/scikit-learn/scikit-learn/issues/21755 */display: inline-block !important;position: relative;}#sk-container-id-3 div.sk-text-repr-fallback {display: none;}</style><div id=\"sk-container-id-3\" class=\"sk-top-container\"><div class=\"sk-text-repr-fallback\"><pre>KMeans(n_clusters=5)</pre><b>In a Jupyter environment, please rerun this cell to show the HTML representation or trust the notebook. <br />On GitHub, the HTML representation is unable to render, please try loading this page with nbviewer.org.</b></div><div class=\"sk-container\" hidden><div class=\"sk-item\"><div class=\"sk-estimator sk-toggleable\"><input class=\"sk-toggleable__control sk-hidden--visually\" id=\"sk-estimator-id-3\" type=\"checkbox\" checked><label for=\"sk-estimator-id-3\" class=\"sk-toggleable__label sk-toggleable__label-arrow\">KMeans</label><div class=\"sk-toggleable__content\"><pre>KMeans(n_clusters=5)</pre></div></div></div></div></div>"
            ],
            "text/plain": [
              "KMeans(n_clusters=5)"
            ]
          },
          "execution_count": 11,
          "metadata": {},
          "output_type": "execute_result"
        }
      ],
      "source": [
        "# K-Means + BoWs\n",
        "X_BoWs = bag_of_words_vectorizer.transform(train_data_cleaned_bow['Phrase'])\n",
        "kmeans_bag_of_words = KMeans(n_clusters=5)\n",
        "kmeans_bag_of_words.fit(X_BoWs)"
      ]
    },
    {
      "cell_type": "code",
      "execution_count": 20,
      "metadata": {},
      "outputs": [
        {
          "data": {
            "text/plain": [
              "Counter({1: 100943, 0: 4997, 2: 1881, 4: 1397, 3: 24})"
            ]
          },
          "execution_count": 20,
          "metadata": {},
          "output_type": "execute_result"
        }
      ],
      "source": [
        "# K-Means + ngrams\n",
        "X_ngram = ngrams_vectorizer.transform(train_data_ngrams['Phrase'])\n",
        "\n",
        "# Initialize the centroids based on the labeled data\n",
        "kmeans_ngram = KMeans(n_clusters=5)\n",
        "kmeans_ngram.fit(X_ngram)\n",
        "\n",
        "Counter(kmeans_ngram.labels_)"
      ]
    },
    {
      "cell_type": "code",
      "execution_count": 13,
      "metadata": {},
      "outputs": [
        {
          "data": {
            "text/plain": [
              "Counter({2: 37790, 3: 26239, 1: 25481, 4: 10352, 0: 9380})"
            ]
          },
          "execution_count": 13,
          "metadata": {},
          "output_type": "execute_result"
        }
      ],
      "source": [
        "# K-means + GloVe\n",
        "train_data_glove = [preprocess_for_glove_embeddings(phrase) for phrase in TRAIN_ORIGINAL['Phrase']] \n",
        "\n",
        "kmeans_glove = KMeans(n_clusters=5)\n",
        "kmeans_glove.fit(train_data_glove)\n",
        "Counter(kmeans_glove.labels_)"
      ]
    },
    {
      "cell_type": "markdown",
      "metadata": {
        "id": "Llha0rk8V3-b"
      },
      "source": [
        "### Fill in the missing labels for K-Means + BoWs"
      ]
    },
    {
      "cell_type": "code",
      "execution_count": 14,
      "metadata": {
        "colab": {
          "base_uri": "https://localhost:8080/"
        },
        "id": "SMH8FwkJVJpb",
        "outputId": "cb0cc039-5b5d-4c29-cb72-aed6bf268704"
      },
      "outputs": [
        {
          "name": "stdout",
          "output_type": "stream",
          "text": [
            "{0: 2, 1: 2, 2: 2, 3: 2, 4: 2}\n"
          ]
        },
        {
          "data": {
            "text/plain": [
              "Sentiment\n",
              "2    87963\n",
              "3     9238\n",
              "1     7544\n",
              "4     2587\n",
              "0     1910\n",
              "Name: count, dtype: int64"
            ]
          },
          "execution_count": 14,
          "metadata": {},
          "output_type": "execute_result"
        }
      ],
      "source": [
        "# Find the most frequent sentiment in each cluster\n",
        "# cluster_map_for_kmeans_bows is a dict where the key is the cluster id and the value is the most frequent label in this cluster id\n",
        "cluster_map_for_kmeans_bows = {}\n",
        "\n",
        "for cluster_i in range(5):\n",
        "    indices = np.where(kmeans_bag_of_words.labels_ == cluster_i)[0]\n",
        "    data_in_cluster_i = train_data_cleaned_bow.iloc[indices]\n",
        "\n",
        "    labels_in_cluster_i = data_in_cluster_i[data_in_cluster_i['Sentiment'] != -100]\n",
        "    cluster_map_for_kmeans_bows[cluster_i] = labels_in_cluster_i['Sentiment'].mode().iloc[0]\n",
        "\n",
        "print(cluster_map_for_kmeans_bows)\n",
        "\n",
        "# Filling in the missing labels\n",
        "train_data_kmeans_bows = train_data_cleaned_bow.copy()\n",
        "\n",
        "predictions = [cluster_map_for_kmeans_bows[cluster_id] for cluster_id in kmeans_bag_of_words.labels_[train_data_kmeans_bows['Sentiment'] == -100]]\n",
        "train_data_kmeans_bows.loc[train_data_kmeans_bows['Sentiment'] == -100, 'Sentiment'] = predictions\n",
        "\n",
        "train_data_kmeans_bows['Sentiment'].value_counts()"
      ]
    },
    {
      "cell_type": "markdown",
      "metadata": {
        "id": "ijHIhxmQV9uu"
      },
      "source": [
        "### Fill in the missing labels for K-Means + N-Gram"
      ]
    },
    {
      "cell_type": "code",
      "execution_count": 15,
      "metadata": {
        "colab": {
          "base_uri": "https://localhost:8080/"
        },
        "id": "ay0slkbdVR_5",
        "outputId": "192d15b4-036e-4e89-f211-67fc2addac3a"
      },
      "outputs": [
        {
          "name": "stdout",
          "output_type": "stream",
          "text": [
            "{0: 3, 1: 2, 2: 2, 3: 2, 4: 2}\n"
          ]
        },
        {
          "data": {
            "text/plain": [
              "Sentiment\n",
              "2    87037\n",
              "3    10164\n",
              "1     7544\n",
              "4     2587\n",
              "0     1910\n",
              "Name: count, dtype: int64"
            ]
          },
          "execution_count": 15,
          "metadata": {},
          "output_type": "execute_result"
        }
      ],
      "source": [
        "# Find the most frequent sentiment in each cluster\n",
        "# cluster_map_for_kmeans_ngram is a dict where the key is the cluster id and the value is the most frequent label in this cluster id\n",
        "cluster_map_for_kmeans_ngram = {}\n",
        "train_data_kmeans_ngrams = train_data_ngrams.copy()\n",
        "\n",
        "for cluster_i in range(5):\n",
        "    indices = np.where(kmeans_ngram.labels_ == cluster_i)[0]\n",
        "    data_in_cluster_i = train_data_kmeans_ngrams.iloc[indices]\n",
        "    \n",
        "    labels_in_cluster_i = data_in_cluster_i[data_in_cluster_i['Sentiment'] != -100]\n",
        "    cluster_map_for_kmeans_ngram[cluster_i] = int(labels_in_cluster_i['Sentiment'].mode().iloc[0])\n",
        "\n",
        "print(cluster_map_for_kmeans_ngram)\n",
        "\n",
        "predictions = [cluster_map_for_kmeans_ngram[cluster_id] for cluster_id in \\\n",
        "               kmeans_ngram.labels_[train_data_kmeans_ngrams['Sentiment'] == -100]]\n",
        "train_data_kmeans_ngrams.loc[train_data_kmeans_ngrams['Sentiment'] == -100, 'Sentiment'] = predictions\n",
        "\n",
        "train_data_kmeans_ngrams['Sentiment'].value_counts()"
      ]
    },
    {
      "cell_type": "markdown",
      "metadata": {},
      "source": [
        "### Fill in the missing labels for K-Means + GloVe"
      ]
    },
    {
      "cell_type": "code",
      "execution_count": 16,
      "metadata": {},
      "outputs": [
        {
          "name": "stdout",
          "output_type": "stream",
          "text": [
            "{0: 2, 1: 2, 2: 2, 3: 2, 4: 2}\n"
          ]
        },
        {
          "data": {
            "text/plain": [
              "Sentiment\n",
              "2    87963\n",
              "3     9238\n",
              "1     7544\n",
              "4     2587\n",
              "0     1910\n",
              "Name: count, dtype: int64"
            ]
          },
          "execution_count": 16,
          "metadata": {},
          "output_type": "execute_result"
        }
      ],
      "source": [
        "# Find the most frequent sentiment in each cluster\n",
        "# cluster_map_for_kmeans_ngram is a dict where the key is the cluster id and the value is the most frequent label in this cluster id\n",
        "cluster_map_for_kmeans_glove = {}\n",
        "train_data_kmeans_glove = TRAIN_ORIGINAL.copy()\n",
        "\n",
        "for cluster_i in range(5):\n",
        "    indices = np.where(kmeans_glove.labels_ == cluster_i)[0]\n",
        "    data_in_cluster_i = train_data_kmeans_glove.iloc[indices]\n",
        "    \n",
        "    labels_in_cluster_i = data_in_cluster_i[data_in_cluster_i['Sentiment'] != -100]\n",
        "    cluster_map_for_kmeans_glove[cluster_i] = int(labels_in_cluster_i['Sentiment'].mode().iloc[0])\n",
        "\n",
        "print(cluster_map_for_kmeans_glove)\n",
        "\n",
        "predictions = [cluster_map_for_kmeans_glove[cluster_id] for cluster_id in \\\n",
        "               kmeans_glove.labels_[train_data_kmeans_glove['Sentiment'] == -100]]\n",
        "train_data_kmeans_glove.loc[train_data_kmeans_glove['Sentiment'] == -100, 'Sentiment'] = predictions\n",
        "\n",
        "train_data_kmeans_glove['Sentiment'].value_counts()"
      ]
    },
    {
      "cell_type": "markdown",
      "metadata": {
        "id": "wPgzpesovrM9"
      },
      "source": [
        "## 1.2: Training GMM with Bag of words, N-Grams, and GloVe"
      ]
    },
    {
      "cell_type": "code",
      "execution_count": 17,
      "metadata": {
        "id": "AsPC787Ov3Qz"
      },
      "outputs": [],
      "source": [
        "# GMM + BoWs\n",
        "# GMM_bag_of_words = GaussianMixture(n_components = 5, random_state=42, max_iter = 1, init_params='random')\n",
        "# GMM_bag_of_words.fit(X_BoWs.toarray())\n",
        "# clusters = GMM_bag_of_words.fit_predict(GMM_bag_of_words)"
      ]
    },
    {
      "cell_type": "code",
      "execution_count": 18,
      "metadata": {},
      "outputs": [
        {
          "data": {
            "text/plain": [
              "Counter({2: 33228, 3: 32718, 0: 16463, 4: 14765, 1: 12068})"
            ]
          },
          "execution_count": 18,
          "metadata": {},
          "output_type": "execute_result"
        }
      ],
      "source": [
        "# GMM + N_grams\n",
        "X_ngrams = ngrams_vectorizer.transform(train_data_ngrams['Phrase']).toarray()\n",
        "gmm_ngram = GaussianMixture(n_components=5, random_state=42, max_iter=50)\n",
        "clusters = gmm_ngram.fit_predict(X_ngrams)\n",
        "Counter(clusters)"
      ]
    },
    {
      "cell_type": "code",
      "execution_count": 19,
      "metadata": {},
      "outputs": [
        {
          "data": {
            "text/plain": [
              "Counter({3: 32912, 1: 24240, 4: 22904, 0: 15647, 2: 13539})"
            ]
          },
          "execution_count": 19,
          "metadata": {},
          "output_type": "execute_result"
        }
      ],
      "source": [
        "# GMM + GloVe\n",
        "train_data_glove = [preprocess_for_glove_embeddings(phrase) for phrase in TRAIN_ORIGINAL['Phrase']] \n",
        "\n",
        "gmm_glove = GaussianMixture(n_components=5, random_state=66, max_iter=66)\n",
        "clusters = gmm_glove.fit_predict(train_data_glove)\n",
        "\n",
        "Counter(clusters)"
      ]
    },
    {
      "cell_type": "markdown",
      "metadata": {
        "id": "qKZuYeOOwG2Q"
      },
      "source": [
        "### Fill in the missing labels for GMM + N-grams"
      ]
    },
    {
      "cell_type": "code",
      "execution_count": 21,
      "metadata": {},
      "outputs": [
        {
          "data": {
            "text/plain": [
              "Sentiment\n",
              "2    87963\n",
              "3     9238\n",
              "1     7544\n",
              "4     2587\n",
              "0     1910\n",
              "Name: count, dtype: int64"
            ]
          },
          "execution_count": 21,
          "metadata": {},
          "output_type": "execute_result"
        }
      ],
      "source": [
        "train_data_gmm_ngrams = train_data_ngrams.copy()\n",
        "\n",
        "for cluster_id in np.unique(clusters):\n",
        "    \n",
        "    # Find indices of points in this cluster\n",
        "    cluster_indices = np.where(clusters == cluster_id)[0]\n",
        "    \n",
        "    # Find original labels for these points\n",
        "    data_in_cluster_id = train_data_gmm_ngrams.iloc[cluster_indices]\n",
        "    \n",
        "    # Filter out the unlabeled (-100) labels\n",
        "    labeled_data_in_cluster_id = data_in_cluster_id[data_in_cluster_id['Sentiment'] != -100]\n",
        "    \n",
        "    # Find the most common label\n",
        "    most_common_label = labeled_data_in_cluster_id['Sentiment'].mode().iloc[0]\n",
        "    \n",
        "    unlabeld_data_in_cluster_id = data_in_cluster_id[data_in_cluster_id['Sentiment'] == -100].index\n",
        "    train_data_gmm_ngrams.loc[unlabeld_data_in_cluster_id, 'Sentiment'] = most_common_label\n",
        "    \n",
        "train_data_gmm_ngrams['Sentiment'].value_counts()"
      ]
    },
    {
      "cell_type": "markdown",
      "metadata": {},
      "source": [
        "### Fill in the missing labels for GMM + GloVe"
      ]
    },
    {
      "cell_type": "code",
      "execution_count": 22,
      "metadata": {},
      "outputs": [
        {
          "data": {
            "text/plain": [
              "Sentiment\n",
              "2    87963\n",
              "3     9238\n",
              "1     7544\n",
              "4     2587\n",
              "0     1910\n",
              "Name: count, dtype: int64"
            ]
          },
          "execution_count": 22,
          "metadata": {},
          "output_type": "execute_result"
        }
      ],
      "source": [
        "train_data_gmm_glove = TRAIN_ORIGINAL.copy()\n",
        "\n",
        "for cluster_id in np.unique(clusters):\n",
        "    \n",
        "    # Find indices of points in this cluster\n",
        "    cluster_indices = np.where(clusters == cluster_id)[0]\n",
        "    \n",
        "    # Find original labels for these points\n",
        "    data_in_cluster_id = train_data_gmm_glove.iloc[cluster_indices]\n",
        "    \n",
        "    # Filter out the unlabeled (-100) labels\n",
        "    labeled_data_in_cluster_id = data_in_cluster_id[data_in_cluster_id['Sentiment'] != -100]\n",
        "    \n",
        "    # Find the most common label\n",
        "    most_common_label = labeled_data_in_cluster_id['Sentiment'].mode().iloc[0]\n",
        "    \n",
        "    unlabeld_data_in_cluster_id = data_in_cluster_id[data_in_cluster_id['Sentiment'] == -100].index\n",
        "    train_data_gmm_glove.loc[unlabeld_data_in_cluster_id, 'Sentiment'] = most_common_label\n",
        "    \n",
        "train_data_gmm_glove['Sentiment'].value_counts()"
      ]
    },
    {
      "cell_type": "markdown",
      "metadata": {
        "id": "DiguPrHLWMvs"
      },
      "source": [
        "# Part 2: Evaluating the predicted labels with Supervised Learning Algorithms"
      ]
    },
    {
      "cell_type": "markdown",
      "metadata": {
        "id": "Bv21q1RLWwR2"
      },
      "source": [
        "## 2.1 Evaluating with Multinomial NB: "
      ]
    },
    {
      "cell_type": "markdown",
      "metadata": {
        "id": "nh3GlZ4pW2H2"
      },
      "source": [
        "### Multinomial NB + KMeans + N-Grams"
      ]
    },
    {
      "cell_type": "code",
      "execution_count": 23,
      "metadata": {
        "id": "3DosV0DNW37b"
      },
      "outputs": [
        {
          "name": "stdout",
          "output_type": "stream",
          "text": [
            "Accuracy and report on validation data: 0.5126660686060917\n",
            "              precision    recall  f1-score   support\n",
            "\n",
            "           0       0.76      0.02      0.04      1058\n",
            "           1       0.64      0.00      0.01      4089\n",
            "           2       0.51      0.99      0.68     11847\n",
            "           3       0.49      0.03      0.06      4992\n",
            "           4       0.73      0.01      0.03      1423\n",
            "\n",
            "    accuracy                           0.51     23409\n",
            "   macro avg       0.63      0.21      0.16     23409\n",
            "weighted avg       0.55      0.51      0.36     23409\n",
            "\n"
          ]
        }
      ],
      "source": [
        "# Model training\n",
        "X_kmeans_ngrams = X_ngrams\n",
        "y_kmeans_ngrams = train_data_kmeans_ngrams['Sentiment']\n",
        "\n",
        "naive_bayes = MultinomialNB()\n",
        "naive_bayes.fit(X_kmeans_ngrams, y_kmeans_ngrams)\n",
        "\n",
        "# Validation\n",
        "X_validation_ngrams = ngrams_vectorizer.transform(VALIDATION_ORIGINAL['Phrase'])\n",
        "y_validation = VALIDATION_ORIGINAL['Sentiment']\n",
        "\n",
        "y_validation_predictions = naive_bayes.predict(X_validation_ngrams)\n",
        "print(\"Accuracy and report on validation data:\", accuracy_score(y_validation, y_validation_predictions))\n",
        "print(classification_report(y_validation, y_validation_predictions))\n",
        "\n",
        "# Testing predictions\n",
        "X_testing_ngrams = ngrams_vectorizer.transform(TEST_ORIGINAL['Phrase'])\n",
        "y_testing_predictions = naive_bayes.predict(X_testing_ngrams)\n",
        "\n",
        "test_predictions = pd.DataFrame({'PhraseId': TEST_ORIGINAL['PhraseId'], 'Sentiment': y_testing_predictions})\n",
        "# test_predictions.to_csv('./dataset/naive_bayes-kmeans-ngrams.csv', index=False)"
      ]
    },
    {
      "cell_type": "markdown",
      "metadata": {},
      "source": [
        "### Multinomial NB + KMeans + GloVe"
      ]
    },
    {
      "cell_type": "code",
      "execution_count": 47,
      "metadata": {},
      "outputs": [
        {
          "name": "stdout",
          "output_type": "stream",
          "text": [
            "Accuracy and report: 0.5060874022811739\n",
            "              precision    recall  f1-score   support\n",
            "\n",
            "           0       0.00      0.00      0.00         0\n",
            "           1       0.00      0.00      0.00         0\n",
            "           2       1.00      0.51      0.67     23409\n",
            "           3       0.00      0.00      0.00         0\n",
            "           4       0.00      0.00      0.00         0\n",
            "\n",
            "    accuracy                           0.51     23409\n",
            "   macro avg       0.20      0.10      0.13     23409\n",
            "weighted avg       1.00      0.51      0.67     23409\n",
            "\n"
          ]
        }
      ],
      "source": [
        "# Find the minimum value in the training GloVe embeddings\n",
        "min_value = np.min(train_data_glove)\n",
        "\n",
        "# Make sure all values are non-negative\n",
        "train_data_glove_positive = train_data_glove + abs(min_value)\n",
        "\n",
        "# Train a Multinomial Naive Bayes model\n",
        "naive_bayes_glove = MultinomialNB()\n",
        "naive_bayes_glove.fit(train_data_glove_positive, train_data_kmeans_glove['Sentiment'])\n",
        "\n",
        "# Transform validation and test data similarly\n",
        "X_validation_glove = [preprocess_for_glove_embeddings(text) for text in VALIDATION_ORIGINAL['Phrase']]\n",
        "X_validation_glove_positive = np.array(X_validation_glove) + abs(min_value)\n",
        "\n",
        "y_validation = VALIDATION_ORIGINAL['Sentiment']\n",
        "y_pred = naive_bayes_glove.predict(X_validation_glove_positive)\n",
        "\n",
        "print(\"Accuracy and report:\", accuracy_score(y_pred, y_validation))\n",
        "print(classification_report(y_pred, y_validation))\n",
        "\n",
        "# Test predictions\n",
        "X_test_glove = [preprocess_for_glove_embeddings(text) for text in TEST_ORIGINAL['Phrase']]\n",
        "X_test_glove_positive = np.array(X_test_glove) + abs(min_value)\n",
        "y_test_glove = naive_bayes_glove.predict(X_test_glove_positive)\n",
        "\n",
        "test_predictions = pd.DataFrame({'PhraseId': TEST_ORIGINAL['PhraseId'], 'Sentiment': y_test_glove})\n",
        "# test_predictions.to_csv('./dataset/naive_bayes-kmeans-glove-positive.csv', index=False)"
      ]
    },
    {
      "cell_type": "markdown",
      "metadata": {},
      "source": [
        "### Multinomial NB + GMM + N-Grams"
      ]
    },
    {
      "cell_type": "code",
      "execution_count": 24,
      "metadata": {},
      "outputs": [
        {
          "name": "stdout",
          "output_type": "stream",
          "text": [
            "Accuracy and report for validation: 0.5094621726686317\n",
            "              precision    recall  f1-score   support\n",
            "\n",
            "           0       0.79      0.02      0.04      1058\n",
            "           1       0.57      0.00      0.01      4089\n",
            "           2       0.51      1.00      0.67     11847\n",
            "           3       0.64      0.01      0.01      4992\n",
            "           4       0.80      0.01      0.03      1423\n",
            "\n",
            "    accuracy                           0.51     23409\n",
            "   macro avg       0.66      0.21      0.15     23409\n",
            "weighted avg       0.58      0.51      0.35     23409\n",
            "\n"
          ]
        }
      ],
      "source": [
        "X_gmm_ngrams = X_ngrams\n",
        "y_gmm_ngrams = train_data_gmm_ngrams['Sentiment']\n",
        "\n",
        "naive_bayes = MultinomialNB()\n",
        "naive_bayes.fit(X_gmm_ngrams, y_gmm_ngrams)\n",
        "\n",
        "# Validation\n",
        "X_validation_ngrams = ngrams_vectorizer.transform(VALIDATION_ORIGINAL['Phrase'])\n",
        "y_validation = VALIDATION_ORIGINAL['Sentiment']\n",
        "\n",
        "y_validation_predictions = naive_bayes.predict(X_validation_ngrams)\n",
        "print(\"Accuracy and report for validation:\", accuracy_score(y_validation, y_validation_predictions))\n",
        "print(classification_report(y_validation, y_validation_predictions))\n",
        "\n",
        "\n",
        "# Testing prediction\n",
        "X_testing_ngrams = ngrams_vectorizer.transform(TEST_ORIGINAL['Phrase'])\n",
        "y_testing_predictions = naive_bayes.predict(X_testing_ngrams)\n",
        "\n",
        "test_predictions = pd.DataFrame({'PhraseId': TEST_ORIGINAL['PhraseId'], 'Sentiment': y_testing_predictions})\n",
        "# test_predictions.to_csv('./dataset/naive_bayes-gmm-ngrams.csv', index=False)"
      ]
    },
    {
      "cell_type": "markdown",
      "metadata": {},
      "source": [
        "### Multinomial NB + GMM + Glove"
      ]
    },
    {
      "cell_type": "code",
      "execution_count": 48,
      "metadata": {},
      "outputs": [
        {
          "name": "stdout",
          "output_type": "stream",
          "text": [
            "Accuracy and report: 0.5060874022811739\n",
            "              precision    recall  f1-score   support\n",
            "\n",
            "           0       0.00      0.00      0.00         0\n",
            "           1       0.00      0.00      0.00         0\n",
            "           2       1.00      0.51      0.67     23409\n",
            "           3       0.00      0.00      0.00         0\n",
            "           4       0.00      0.00      0.00         0\n",
            "\n",
            "    accuracy                           0.51     23409\n",
            "   macro avg       0.20      0.10      0.13     23409\n",
            "weighted avg       1.00      0.51      0.67     23409\n",
            "\n"
          ]
        }
      ],
      "source": [
        "# Find the minimum value in the training GloVe embeddings\n",
        "min_value = np.min(train_data_glove)\n",
        "\n",
        "# Make sure all values are non-negative\n",
        "train_data_glove_positive = train_data_glove + abs(min_value)\n",
        "\n",
        "# Train a Multinomial Naive Bayes model\n",
        "naive_bayes_glove_2 = MultinomialNB()\n",
        "naive_bayes_glove_2.fit(train_data_glove_positive, train_data_gmm_glove['Sentiment'])\n",
        "\n",
        "# Transform validation and test data similarly\n",
        "X_validation_glove = [preprocess_for_glove_embeddings(text) for text in VALIDATION_ORIGINAL['Phrase']]\n",
        "X_validation_glove_positive = np.array(X_validation_glove) + abs(min_value)\n",
        "\n",
        "y_validation = VALIDATION_ORIGINAL['Sentiment']\n",
        "y_pred = naive_bayes_glove_2.predict(X_validation_glove_positive)\n",
        "\n",
        "print(\"Accuracy and report:\", accuracy_score(y_pred, y_validation))\n",
        "print(classification_report(y_pred, y_validation))\n",
        "\n",
        "# Test predictions\n",
        "X_test_glove = [preprocess_for_glove_embeddings(text) for text in TEST_ORIGINAL['Phrase']]\n",
        "X_test_glove_positive = np.array(X_test_glove) + abs(min_value)\n",
        "y_test_glove = naive_bayes_glove_2.predict(X_test_glove_positive)\n",
        "\n",
        "test_predictions = pd.DataFrame({'PhraseId': TEST_ORIGINAL['PhraseId'], 'Sentiment': y_test_glove})\n",
        "# test_predictions.to_csv('./dataset/naive_bayes-kmeans-glove-positive.csv', index=False)"
      ]
    },
    {
      "cell_type": "markdown",
      "metadata": {},
      "source": [
        "## 2.2 Evaluating with KNN: "
      ]
    },
    {
      "cell_type": "markdown",
      "metadata": {},
      "source": [
        "### KNN + K-Means + N-grams"
      ]
    },
    {
      "cell_type": "code",
      "execution_count": 25,
      "metadata": {},
      "outputs": [
        {
          "name": "stdout",
          "output_type": "stream",
          "text": [
            "Accuracy and report for validation: 0.5174505532060318\n",
            "              precision    recall  f1-score   support\n",
            "\n",
            "           0       0.43      0.03      0.05      1058\n",
            "           1       0.41      0.03      0.06      4089\n",
            "           2       0.52      0.98      0.68     11847\n",
            "           3       0.53      0.06      0.11      4992\n",
            "           4       0.66      0.03      0.05      1423\n",
            "\n",
            "    accuracy                           0.52     23409\n",
            "   macro avg       0.51      0.23      0.19     23409\n",
            "weighted avg       0.51      0.52      0.38     23409\n",
            "\n"
          ]
        }
      ],
      "source": [
        "X_kmeans_ngrams = X_ngrams\n",
        "y_kmeans_ngrams = train_data_kmeans_ngrams['Sentiment']\n",
        "\n",
        "knn = KNeighborsClassifier(n_neighbors=5)\n",
        "knn.fit(X_kmeans_ngrams, y_kmeans_ngrams)\n",
        "\n",
        "\n",
        "# Validation\n",
        "X_validation_ngrams = ngrams_vectorizer.transform(VALIDATION_ORIGINAL['Phrase'])\n",
        "y_validation = VALIDATION_ORIGINAL['Sentiment']\n",
        "\n",
        "y_validation_predictions = knn.predict(X_validation_ngrams)\n",
        "print(\"Accuracy and report for validation:\", accuracy_score(y_validation, y_validation_predictions))\n",
        "print(classification_report(y_validation, y_validation_predictions))\n",
        "\n",
        "\n",
        "# Testing predictions\n",
        "X_testing_ngrams = ngrams_vectorizer.transform(TEST_ORIGINAL['Phrase'])\n",
        "y_testing_predictions = knn.predict(X_testing_ngrams)\n",
        "\n",
        "test_predictions = pd.DataFrame({'PhraseId': TEST_ORIGINAL['PhraseId'], 'Sentiment': y_testing_predictions})\n",
        "# test_predictions.to_csv('./dataset/knn-kmeans-ngrams.csv', index=False)"
      ]
    },
    {
      "cell_type": "markdown",
      "metadata": {},
      "source": [
        "### KNN + K-Means + GloVe"
      ]
    },
    {
      "cell_type": "code",
      "execution_count": 26,
      "metadata": {},
      "outputs": [
        {
          "name": "stdout",
          "output_type": "stream",
          "text": [
            "Accuracy and report: 0.5241146567559486\n",
            "              precision    recall  f1-score   support\n",
            "\n",
            "           0       0.10      0.40      0.15       255\n",
            "           1       0.09      0.48      0.15       764\n",
            "           2       0.96      0.53      0.68     21681\n",
            "           3       0.06      0.53      0.11       572\n",
            "           4       0.06      0.61      0.11       137\n",
            "\n",
            "    accuracy                           0.52     23409\n",
            "   macro avg       0.25      0.51      0.24     23409\n",
            "weighted avg       0.90      0.52      0.64     23409\n",
            "\n"
          ]
        }
      ],
      "source": [
        "knn = KNeighborsClassifier()\n",
        "knn.fit(train_data_glove, train_data_kmeans_glove['Sentiment'])\n",
        "\n",
        "# Validation\n",
        "X_validation_glove = [preprocess_for_glove_embeddings(text) for text in VALIDATION_ORIGINAL['Phrase']]\n",
        "y_validation = VALIDATION_ORIGINAL['Sentiment']\n",
        "\n",
        "y_pred = knn.predict(X_validation_glove)\n",
        "\n",
        "print(\"Accuracy and report:\", accuracy_score(y_pred, y_validation))\n",
        "print(classification_report(y_pred, y_validation))\n",
        "\n",
        "# Test Predictions\n",
        "X_test_glove = [preprocess_for_glove_embeddings(text) for text in TEST_ORIGINAL['Phrase']]\n",
        "y_test_glove = knn.predict(X_test_glove)\n",
        "\n",
        "test_predictions = pd.DataFrame({'PhraseId': TEST_ORIGINAL['PhraseId'], 'Sentiment': y_test_glove})\n",
        "# test_predictions.to_csv('./dataset/knn-kmeans-glove.csv', index=False)"
      ]
    },
    {
      "cell_type": "markdown",
      "metadata": {},
      "source": [
        "### KNN + GMM + N-grams"
      ]
    },
    {
      "cell_type": "code",
      "execution_count": 27,
      "metadata": {},
      "outputs": [
        {
          "name": "stdout",
          "output_type": "stream",
          "text": [
            "Accuracy: 0.5144602503310692\n",
            "              precision    recall  f1-score   support\n",
            "\n",
            "           0       0.43      0.03      0.05      1058\n",
            "           1       0.41      0.03      0.06      4089\n",
            "           2       0.52      0.99      0.68     11847\n",
            "           3       0.56      0.04      0.07      4992\n",
            "           4       0.67      0.03      0.05      1423\n",
            "\n",
            "    accuracy                           0.51     23409\n",
            "   macro avg       0.52      0.22      0.18     23409\n",
            "weighted avg       0.51      0.51      0.37     23409\n",
            "\n"
          ]
        }
      ],
      "source": [
        "X_gmm_ngrams = X_ngrams\n",
        "y_gmm_ngrams = train_data_gmm_ngrams['Sentiment']\n",
        "\n",
        "knn = KNeighborsClassifier(n_neighbors=5)\n",
        "knn.fit(X_gmm_ngrams, y_gmm_ngrams)\n",
        "\n",
        "\n",
        "# Validation\n",
        "X_validation_ngrams = ngrams_vectorizer.transform(VALIDATION_ORIGINAL['Phrase'])\n",
        "y_validation = VALIDATION_ORIGINAL['Sentiment']\n",
        "\n",
        "y_validation_predictions = knn.predict(X_validation_ngrams)\n",
        "print(\"Accuracy:\", accuracy_score(y_validation, y_validation_predictions))\n",
        "print(classification_report(y_validation, y_validation_predictions))\n",
        "\n",
        "\n",
        "# Testing predictions\n",
        "X_testing_ngrams = ngrams_vectorizer.transform(TEST_ORIGINAL['Phrase'])\n",
        "y_testing_predictions = knn.predict(X_testing_ngrams)\n",
        "\n",
        "test_predictions = pd.DataFrame({'PhraseId': TEST_ORIGINAL['PhraseId'], 'Sentiment': y_testing_predictions})\n",
        "# test_predictions.to_csv('./dataset/knn-gmm-ngrams.csv', index=False)"
      ]
    },
    {
      "cell_type": "markdown",
      "metadata": {},
      "source": [
        "### KNN + GMM + GloVe"
      ]
    },
    {
      "cell_type": "code",
      "execution_count": 28,
      "metadata": {},
      "outputs": [
        {
          "name": "stdout",
          "output_type": "stream",
          "text": [
            "Accuracy and report: 0.5241146567559486\n",
            "              precision    recall  f1-score   support\n",
            "\n",
            "           0       0.10      0.40      0.15       255\n",
            "           1       0.09      0.48      0.15       764\n",
            "           2       0.96      0.53      0.68     21681\n",
            "           3       0.06      0.53      0.11       572\n",
            "           4       0.06      0.61      0.11       137\n",
            "\n",
            "    accuracy                           0.52     23409\n",
            "   macro avg       0.25      0.51      0.24     23409\n",
            "weighted avg       0.90      0.52      0.64     23409\n",
            "\n"
          ]
        }
      ],
      "source": [
        "knn = KNeighborsClassifier()\n",
        "knn.fit(train_data_glove, train_data_gmm_glove['Sentiment'])\n",
        "\n",
        "# Validation\n",
        "X_validation_glove = [preprocess_for_glove_embeddings(text) for text in VALIDATION_ORIGINAL['Phrase']]\n",
        "y_validation = VALIDATION_ORIGINAL['Sentiment']\n",
        "\n",
        "y_pred = knn.predict(X_validation_glove)\n",
        "\n",
        "print(\"Accuracy and report:\", accuracy_score(y_pred, y_validation))\n",
        "print(classification_report(y_pred, y_validation))\n",
        "\n",
        "# Test Predictions\n",
        "X_test_glove = [preprocess_for_glove_embeddings(text) for text in TEST_ORIGINAL['Phrase']]\n",
        "y_test_glove = knn.predict(X_test_glove)\n",
        "\n",
        "test_predictions = pd.DataFrame({'PhraseId': TEST_ORIGINAL['PhraseId'], 'Sentiment': y_test_glove})\n",
        "# test_predictions.to_csv('./dataset/knn-gmm-glove.csv', index=False)"
      ]
    },
    {
      "cell_type": "markdown",
      "metadata": {},
      "source": [
        "## 2.3 Evaluating with Softmax regression: "
      ]
    },
    {
      "cell_type": "markdown",
      "metadata": {},
      "source": [
        "### Softmax + K-means + N-grams"
      ]
    },
    {
      "cell_type": "code",
      "execution_count": 29,
      "metadata": {},
      "outputs": [
        {
          "name": "stdout",
          "output_type": "stream",
          "text": [
            "Accuracy and report on validation data: 0.5138194711435773\n",
            "              precision    recall  f1-score   support\n",
            "\n",
            "           0       0.75      0.02      0.04      1058\n",
            "           1       0.58      0.00      0.01      4089\n",
            "           2       0.51      0.99      0.68     11847\n",
            "           3       0.48      0.04      0.07      4992\n",
            "           4       0.65      0.03      0.06      1423\n",
            "\n",
            "    accuracy                           0.51     23409\n",
            "   macro avg       0.60      0.22      0.17     23409\n",
            "weighted avg       0.54      0.51      0.36     23409\n",
            "\n"
          ]
        }
      ],
      "source": [
        "X_kmeans_ngrams = X_ngrams\n",
        "y_kmeans_ngrams = train_data_kmeans_ngrams['Sentiment']\n",
        "\n",
        "softmax_reg = LogisticRegression(multi_class='multinomial', solver='lbfgs', max_iter=2000)\n",
        "softmax_reg.fit(X_kmeans_ngrams, y_kmeans_ngrams)\n",
        "\n",
        "\n",
        "# Validation\n",
        "X_validation_ngrams = ngrams_vectorizer.transform(VALIDATION_ORIGINAL['Phrase'])\n",
        "y_validation = VALIDATION_ORIGINAL['Sentiment']\n",
        "\n",
        "y_validation_predictions = softmax_reg.predict(X_validation_ngrams)\n",
        "print(\"Accuracy and report on validation data:\", accuracy_score(y_validation, y_validation_predictions))\n",
        "print(classification_report(y_validation, y_validation_predictions))\n",
        "\n",
        "\n",
        "# Testing predictions\n",
        "X_testing_ngrams = ngrams_vectorizer.transform(TEST_ORIGINAL['Phrase'])\n",
        "y_testing_predictions = softmax_reg.predict(X_testing_ngrams)\n",
        "\n",
        "test_predictions = pd.DataFrame({'PhraseId': TEST_ORIGINAL['PhraseId'], 'Sentiment': y_testing_predictions})\n",
        "# test_predictions.to_csv('./dataset/softmax_regression-kmeans-ngrams.csv', index=False)"
      ]
    },
    {
      "cell_type": "markdown",
      "metadata": {},
      "source": [
        "### Softmax + K-means + GloVe"
      ]
    },
    {
      "cell_type": "code",
      "execution_count": 30,
      "metadata": {},
      "outputs": [
        {
          "name": "stdout",
          "output_type": "stream",
          "text": [
            "Accuracy and report: 0.5096330471186296\n",
            "              precision    recall  f1-score   support\n",
            "\n",
            "           0       0.01      0.53      0.02        17\n",
            "           1       0.01      0.56      0.02        57\n",
            "           2       1.00      0.51      0.67     23211\n",
            "           3       0.01      0.48      0.01        69\n",
            "           4       0.03      0.67      0.05        55\n",
            "\n",
            "    accuracy                           0.51     23409\n",
            "   macro avg       0.21      0.55      0.15     23409\n",
            "weighted avg       0.99      0.51      0.67     23409\n",
            "\n"
          ]
        }
      ],
      "source": [
        "softmax_reg = LogisticRegression(multi_class='multinomial', solver='lbfgs', max_iter=2000)\n",
        "softmax_reg.fit(train_data_glove, train_data_kmeans_glove['Sentiment'])\n",
        "\n",
        "# Validation\n",
        "X_validation_glove = [preprocess_for_glove_embeddings(text) for text in VALIDATION_ORIGINAL['Phrase']]\n",
        "y_validation = VALIDATION_ORIGINAL['Sentiment']\n",
        "\n",
        "y_pred = softmax_reg.predict(X_validation_glove)\n",
        "\n",
        "print(\"Accuracy and report:\", accuracy_score(y_pred, y_validation))\n",
        "print(classification_report(y_pred, y_validation))\n",
        "\n",
        "\n",
        "# Test predictions\n",
        "X_test_glove = [preprocess_for_glove_embeddings(text) for text in TEST_ORIGINAL['Phrase']]\n",
        "y_test_glove = softmax_reg.predict(X_test_glove)\n",
        "\n",
        "test_predictions = pd.DataFrame({'PhraseId': TEST_ORIGINAL['PhraseId'], 'Sentiment': y_test_glove})\n",
        "# test_predictions.to_csv('./dataset/softmax_regression-kmeans-glove.csv', index=False)"
      ]
    },
    {
      "cell_type": "markdown",
      "metadata": {},
      "source": [
        "### Softmax + GMM + N-grams"
      ]
    },
    {
      "cell_type": "code",
      "execution_count": 31,
      "metadata": {},
      "outputs": [
        {
          "name": "stdout",
          "output_type": "stream",
          "text": [
            "Accuracy and report for validation: 0.509761202956128\n",
            "              precision    recall  f1-score   support\n",
            "\n",
            "           0       0.75      0.02      0.04      1058\n",
            "           1       0.57      0.00      0.01      4089\n",
            "           2       0.51      1.00      0.67     11847\n",
            "           3       0.51      0.01      0.01      4992\n",
            "           4       0.64      0.02      0.05      1423\n",
            "\n",
            "    accuracy                           0.51     23409\n",
            "   macro avg       0.60      0.21      0.16     23409\n",
            "weighted avg       0.54      0.51      0.35     23409\n",
            "\n"
          ]
        }
      ],
      "source": [
        "X_gmm_ngrams = X_ngrams\n",
        "y_gmm_ngrams = train_data_gmm_ngrams['Sentiment']\n",
        "\n",
        "softmax_reg = LogisticRegression(multi_class='multinomial', solver='lbfgs', max_iter=2000)\n",
        "softmax_reg.fit(X_gmm_ngrams, y_gmm_ngrams)\n",
        "\n",
        "\n",
        "# Validation\n",
        "X_validation_ngrams = ngrams_vectorizer.transform(VALIDATION_ORIGINAL['Phrase'])\n",
        "y_validation = VALIDATION_ORIGINAL['Sentiment']\n",
        "\n",
        "y_validation_predictions = softmax_reg.predict(X_validation_ngrams)\n",
        "print(\"Accuracy and report for validation:\", accuracy_score(y_validation, y_validation_predictions))\n",
        "print(classification_report(y_validation, y_validation_predictions))\n",
        "\n",
        "\n",
        "# Testing predictions\n",
        "X_testing_ngrams = ngrams_vectorizer.transform(TEST_ORIGINAL['Phrase'])\n",
        "y_testing_predictions = softmax_reg.predict(X_testing_ngrams)\n",
        "\n",
        "test_predictions = pd.DataFrame({'PhraseId': TEST_ORIGINAL['PhraseId'], 'Sentiment': y_testing_predictions})\n",
        "# test_predictions.to_csv('./dataset/softmax_regression-gmm-ngrams.csv', index=False)"
      ]
    },
    {
      "cell_type": "markdown",
      "metadata": {},
      "source": [
        "### Softmax + GMM + GloVe"
      ]
    },
    {
      "cell_type": "code",
      "execution_count": 32,
      "metadata": {},
      "outputs": [
        {
          "name": "stdout",
          "output_type": "stream",
          "text": [
            "Accuracy and report: 0.5096330471186296\n",
            "              precision    recall  f1-score   support\n",
            "\n",
            "           0       0.01      0.53      0.02        17\n",
            "           1       0.01      0.56      0.02        57\n",
            "           2       1.00      0.51      0.67     23211\n",
            "           3       0.01      0.48      0.01        69\n",
            "           4       0.03      0.67      0.05        55\n",
            "\n",
            "    accuracy                           0.51     23409\n",
            "   macro avg       0.21      0.55      0.15     23409\n",
            "weighted avg       0.99      0.51      0.67     23409\n",
            "\n"
          ]
        }
      ],
      "source": [
        "softmax_reg = LogisticRegression(multi_class='multinomial', solver='lbfgs', max_iter=2000)\n",
        "softmax_reg.fit(train_data_glove, train_data_gmm_glove['Sentiment'])\n",
        "\n",
        "# Validation\n",
        "X_validation_glove = [preprocess_for_glove_embeddings(text) for text in VALIDATION_ORIGINAL['Phrase']]\n",
        "y_validation = VALIDATION_ORIGINAL['Sentiment']\n",
        "\n",
        "y_pred = softmax_reg.predict(X_validation_glove)\n",
        "\n",
        "print(\"Accuracy and report:\", accuracy_score(y_pred, y_validation))\n",
        "print(classification_report(y_pred, y_validation))\n",
        "\n",
        "\n",
        "# Test predictions\n",
        "X_test_glove = [preprocess_for_glove_embeddings(text) for text in TEST_ORIGINAL['Phrase']]\n",
        "y_test_glove = softmax_reg.predict(X_test_glove)\n",
        "\n",
        "test_predictions = pd.DataFrame({'PhraseId': TEST_ORIGINAL['PhraseId'], 'Sentiment': y_test_glove})\n",
        "# test_predictions.to_csv('./dataset/softmax_regression-gmm-glove.csv', index=False)"
      ]
    },
    {
      "cell_type": "markdown",
      "metadata": {},
      "source": [
        "# Final model selection:"
      ]
    },
    {
      "cell_type": "markdown",
      "metadata": {
        "id": "TkicKPPMW-oB"
      },
      "source": [
        "## Use Naive Bayes + KMeans + BoWs to predict data in test"
      ]
    },
    {
      "cell_type": "code",
      "execution_count": 51,
      "metadata": {
        "id": "BJedx5QvW_EN"
      },
      "outputs": [],
      "source": [
        "knn = KNeighborsClassifier()\n",
        "knn.fit(train_data_glove, train_data_gmm_glove['Sentiment'])\n",
        "\n",
        "# Test Predictions\n",
        "X_test_glove = [preprocess_for_glove_embeddings(text) for text in TEST_ORIGINAL['Phrase']]\n",
        "y_test_glove = knn.predict(X_test_glove)\n",
        "\n",
        "test_predictions = pd.DataFrame({'PhraseId': TEST_ORIGINAL['PhraseId'], 'Sentiment': y_test_glove})\n",
        "test_predictions.to_csv('./data/knn-gmm-glove.csv', index=False)"
      ]
    }
  ],
  "metadata": {
    "colab": {
      "provenance": []
    },
    "kernelspec": {
      "display_name": "Python 3.10.2 64-bit",
      "language": "python",
      "name": "python3"
    },
    "language_info": {
      "codemirror_mode": {
        "name": "ipython",
        "version": 3
      },
      "file_extension": ".py",
      "mimetype": "text/x-python",
      "name": "python",
      "nbconvert_exporter": "python",
      "pygments_lexer": "ipython3",
      "version": "3.10.2"
    },
    "vscode": {
      "interpreter": {
        "hash": "aee8b7b246df8f9039afb4144a1f6fd8d2ca17a180786b69acc140d282b71a49"
      }
    }
  },
  "nbformat": 4,
  "nbformat_minor": 0
}
